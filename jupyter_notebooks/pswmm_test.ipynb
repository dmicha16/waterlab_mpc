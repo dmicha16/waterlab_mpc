{
 "cells": [
  {
   "cell_type": "code",
   "execution_count": 2,
   "metadata": {},
   "outputs": [],
   "source": [
    "import matplotlib\n",
    "import matplotlib\n",
    "import matplotlib.pyplot as plt"
   ]
  },
  {
   "cell_type": "code",
   "execution_count": 3,
   "metadata": {},
   "outputs": [],
   "source": [
    "# This is called a magic and you can use to do magical things\n",
    "# in this case allowing matplotlib to show in jupyter lab\n",
    "%matplotlib inline\n",
    "# %matplotlib widget"
   ]
  },
  {
   "cell_type": "code",
   "execution_count": 15,
   "metadata": {},
   "outputs": [],
   "source": [
    "from pyswmm import Simulation, Nodes, Subcatchments, Links"
   ]
  },
  {
   "cell_type": "code",
   "execution_count": 6,
   "metadata": {},
   "outputs": [
    {
     "name": "stdout",
     "output_type": "stream",
     "text": [
      " Example1.inp   Example1.rpt\t\t        povas_example\n",
      " Example1.out  'PID pump control example.inp'   proposal_network.inp\n"
     ]
    }
   ],
   "source": [
    "# you can also execute linux shell commands starting with !\n",
    "!ls example_projects/"
   ]
  },
  {
   "cell_type": "code",
   "execution_count": 8,
   "metadata": {},
   "outputs": [
    {
     "name": "stdout",
     "output_type": "stream",
     "text": [
      "Simulation is loaded.\n",
      "\n",
      "... SWMM Version 5.3.0.dev0\n",
      "... Run Complete"
     ]
    }
   ],
   "source": [
    "try:\n",
    "    sim = Simulation('example_projects/proposal_network.inp')\n",
    "except:\n",
    "    print(\"Couldn't load the simulation!\")\n",
    "else:\n",
    "    print(\"Simulation is loaded.\")\n",
    "    sim.execute()"
   ]
  },
  {
   "cell_type": "code",
   "execution_count": 149,
   "metadata": {},
   "outputs": [
    {
     "name": "stdout",
     "output_type": "stream",
     "text": [
      "LPS\n",
      "SI\n",
      "check if p1 is a pump: True\n",
      "check if tank1 is a storage unit: True\n",
      "Tanks1 Out1\n",
      "['_model', '_linkid', '__module__', '__doc__', '__init__', 'pump_statistics', 'linkid', 'is_conduit', 'is_pump', 'is_orifice', 'is_weir', 'is_outlet', 'connections', 'inlet_node', 'outlet_node', 'inlet_offset', 'outlet_offset', 'initial_flow', 'flow_limit', 'inlet_head_loss', 'outlet_head_loss', 'average_head_loss', 'seepage_rate', 'flow', 'depth', 'volume', 'froude', 'ups_xsection_area', 'ds_xsection_area', 'current_setting', 'target_setting', '__dict__', '__weakref__', '__repr__', '__hash__', '__str__', '__getattribute__', '__setattr__', '__delattr__', '__lt__', '__le__', '__eq__', '__ne__', '__gt__', '__ge__', '__new__', '__reduce_ex__', '__reduce__', '__subclasshook__', '__init_subclass__', '__format__', '__sizeof__', '__dir__', '__class__']\n",
      "current_setting: 1.0\n",
      "71\n"
     ]
    }
   ],
   "source": [
    "count = 0\n",
    "tank_total_volume = []\n",
    "p1_flow = []\n",
    "# pay attention to step count if it corresponds to \n",
    "with Simulation('example_projects/proposal_network.inp') as sim:\n",
    "    \n",
    "    \n",
    "    sim.step_advance(300)\n",
    "    print(sim.flow_units)\n",
    "    print(sim.system_units)\n",
    "    \n",
    "    p1 = Links(sim)[\"P1\"]\n",
    "    tank1 = Nodes(sim)[\"Tanks1\"]\n",
    "    \n",
    "    print(\"check if p1 is a pump:\", p1.is_pump())\n",
    "    print(\"check if tank1 is a storage unit:\", tank1.is_storage())\n",
    "    \n",
    "    print(p1.inlet_node, p1.outlet_node)\n",
    "    print(p1.__dir__())\n",
    "    \n",
    "    print(\"current_setting:\", p1.current_setting)\n",
    "    \n",
    "    for idx, step in enumerate(sim):\n",
    "        \n",
    "#         print(sim.current_time)\n",
    "        \n",
    "        tank_total_volume.append(tank1.volume)\n",
    "        \n",
    "        #casadi\n",
    "        \n",
    "        p1_flow.append(p1.flow)\n",
    "        \n",
    "        if tank1.volume > 50:\n",
    "#             print(p1.volume)\n",
    "            p1.target_setting = 2\n",
    "        count += 1\n",
    "    print(count)"
   ]
  },
  {
   "cell_type": "code",
   "execution_count": 150,
   "metadata": {},
   "outputs": [
    {
     "data": {
      "text/plain": [
       "[<matplotlib.lines.Line2D at 0x7f7bc95782e0>]"
      ]
     },
     "execution_count": 150,
     "metadata": {},
     "output_type": "execute_result"
    },
    {
     "data": {
      "image/png": "[encoded data removed]",
      "text/plain": [
       "<Figure size 432x288 with 1 Axes>"
      ]
     },
     "metadata": {
      "needs_background": "light"
     },
     "output_type": "display_data"
    }
   ],
   "source": [
    "plt.plot(p1_flow)"
   ]
  },
  {
   "cell_type": "code",
   "execution_count": 148,
   "metadata": {},
   "outputs": [
    {
     "data": {
      "text/plain": [
       "[<matplotlib.lines.Line2D at 0x7f7bc95a0610>]"
      ]
     },
     "execution_count": 148,
     "metadata": {},
     "output_type": "execute_result"
    },
    {
     "data": {
      "image/png": "[encoded data removed]",
      "text/plain": [
       "<Figure size 432x288 with 1 Axes>"
      ]
     },
     "metadata": {
      "needs_background": "light"
     },
     "output_type": "display_data"
    }
   ],
   "source": [
    "\n",
    "plt.plot(tank_total_volume)"
   ]
  }
 ],
 "metadata": {
  "kernelspec": {
   "display_name": "waterlab_mpc",
   "language": "python",
   "name": "waterlab_mpc"
  },
  "language_info": {
   "codemirror_mode": {
    "name": "ipython",
    "version": 3
   },
   "file_extension": ".py",
   "mimetype": "text/x-python",
   "name": "python",
   "nbconvert_exporter": "python",
   "pygments_lexer": "ipython3",
   "version": "3.8.1"
  },
  "pycharm": {
   "stem_cell": {
    "cell_type": "raw",
    "source": [],
    "metadata": {
     "collapsed": false
    }
   }
  }
 },
 "nbformat": 4,
 "nbformat_minor": 4
}